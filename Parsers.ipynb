{
  "nbformat": 4,
  "nbformat_minor": 0,
  "metadata": {
    "colab": {
      "name": "Parsers.ipynb",
      "provenance": [],
      "collapsed_sections": []
    },
    "kernelspec": {
      "name": "python3",
      "display_name": "Python 3"
    },
    "accelerator": "GPU"
  },
  "cells": [
    {
      "cell_type": "code",
      "metadata": {
        "colab": {
          "base_uri": "https://localhost:8080/"
        },
        "id": "ESPiAvukjict",
        "outputId": "f05cc879-4a31-4f10-fc01-55449e817ef2"
      },
      "source": [
        "!git clone 'https://github.com/nlp-sakha/sakha-embeddings.git'"
      ],
      "execution_count": null,
      "outputs": [
        {
          "output_type": "stream",
          "name": "stdout",
          "text": [
            "Cloning into 'sakha-embeddings'...\n",
            "remote: Enumerating objects: 55, done.\u001b[K\n",
            "remote: Counting objects: 100% (2/2), done.\u001b[K\n",
            "remote: Compressing objects: 100% (2/2), done.\u001b[K\n",
            "remote: Total 55 (delta 0), reused 0 (delta 0), pack-reused 53\u001b[K\n",
            "Unpacking objects: 100% (55/55), done.\n"
          ]
        }
      ]
    },
    {
      "cell_type": "code",
      "metadata": {
        "colab": {
          "base_uri": "https://localhost:8080/"
        },
        "id": "3AvgzwXsj1V4",
        "outputId": "9abc918c-9f97-4f38-e628-9e50f3d371de"
      },
      "source": [
        "%cd sakha-embeddings/"
      ],
      "execution_count": null,
      "outputs": [
        {
          "output_type": "stream",
          "name": "stdout",
          "text": [
            "/content/sakha-embeddings\n"
          ]
        }
      ]
    },
    {
      "cell_type": "code",
      "metadata": {
        "id": "LAWJBi0qxnXH"
      },
      "source": [
        "%mkdir data"
      ],
      "execution_count": null,
      "outputs": []
    },
    {
      "cell_type": "code",
      "metadata": {
        "id": "hD-IdW1nj5in"
      },
      "source": [
        "#!python parser/wikitodata.py data/sahwiki-latest-pages-articles.xml.bz2  data/wiki.txt\n",
        "#!python parser/parser.py kyym -f 0 -t 2000 -o data/corpus.kyym.txt\n",
        "#!python parser/parser.py edersaas -f 0 -t 100 -o data/corpus.edersaas.txt\n",
        "#!python parser/parser.py sakhasire -f 0 -t 100 -o data/corpus.sakhasire.txt\n",
        "#!python parser/parser.py sakhalife_sahalii -f 0 -t 10: -o data/corpus.sakhalife.txt\n",
        "#!python parser/parser.py iltymen -f 0 -t 2000 -o data/corpus.iltymen.txt"
      ],
      "execution_count": null,
      "outputs": []
    },
    {
      "cell_type": "markdown",
      "metadata": {
        "id": "JdQ-q7gfjf2B"
      },
      "source": [
        "**Самые нужные библиотеки для парсинга сайтов.**\n",
        "\n",
        "**Requests and BeautifulSoup**\n",
        "\n",
        "Подробнее о примерах применения на русском языке можно почитать тут:\n",
        "\n",
        "https://python-scripts.com/requests\n",
        "\n",
        "https://python-scripts.com/beautifulsoup-html-parsing\n",
        "\n",
        "Но если у вас хороший английский, то читайте документации"
      ]
    },
    {
      "cell_type": "code",
      "metadata": {
        "id": "kpM15cCjPYxn"
      },
      "source": [
        "import requests\n",
        "from bs4 import BeautifulSoup\n",
        "from time import sleep\n",
        "from tqdm import tqdm"
      ],
      "execution_count": null,
      "outputs": []
    },
    {
      "cell_type": "markdown",
      "metadata": {
        "id": "aF4GWYQfPuop"
      },
      "source": [
        "**Сайт** **SakhaLife**"
      ]
    },
    {
      "cell_type": "code",
      "metadata": {
        "id": "w1TOjicJQP7-"
      },
      "source": [
        "BASE_URL = \"https://sakhalife.ru/category/sahalii/\""
      ],
      "execution_count": null,
      "outputs": []
    },
    {
      "cell_type": "markdown",
      "metadata": {
        "id": "aylafmvfw2pP"
      },
      "source": [
        "Копия документа sakha-embeddings/parser/parser_sakhalife_sahalii.py"
      ]
    },
    {
      "cell_type": "code",
      "metadata": {
        "id": "wLRDeJrPPuA_"
      },
      "source": [
        "def get_html(url):\n",
        "    r = requests.get(url)\n",
        "    return r.text\n",
        "\n",
        "\n",
        "def get_last_page(html):\n",
        "    soup = BeautifulSoup(html, \"lxml\")\n",
        "    last_page = int(soup.find_all('a', class_='page-numbers')[4].text)\n",
        "    return last_page\n",
        "\n",
        "\n",
        "def get_page_data(html):\n",
        "    soup = BeautifulSoup(html, \"lxml\")\n",
        "    news_url = soup.find_all('a', class_='new')\n",
        "    url = []\n",
        "    for add in news_url:\n",
        "        try:\n",
        "            url.append(add.get('href'))\n",
        "        except:\n",
        "            url.append('')\n",
        "    return url\n",
        "\n",
        "\n",
        "def get_article_content(url):\n",
        "    page = requests.get(url)\n",
        "\n",
        "    if page.status_code == 200:\n",
        "        soup = BeautifulSoup(page.text, \"lxml\")\n",
        "        try:\n",
        "            date = soup.find('div', class_ ='post-date').find('div', class_ ='date').text\n",
        "            name = soup.find('div', class_ ='post-content').find('h1').text\n",
        "            content = soup.find('div', class_ ='post-content-inner').text\n",
        "            return date, name, content\n",
        "        except Exception as exc:\n",
        "            print(exc)\n",
        "    else:\n",
        "        return None\n",
        "\n",
        "\n",
        "def parser(output='data/sakhalife_data.txt', print_each=2):\n",
        "    last_page = get_last_page(get_html(BASE_URL))\n",
        "    count = 0\n",
        "    for i in range(1, last_page + 1):\n",
        "        GEN_URL = BASE_URL+'page/'+str(i)\n",
        "        html = get_html(GEN_URL)\n",
        "        urls = get_page_data(html)\n",
        "\n",
        "        for url in urls:\n",
        "            text_file = open(output,'a')\n",
        "            date, name, content = get_article_content(url)\n",
        "            if content is not None:\n",
        "                text_file.write('сонун №'+str(count)+'\\n')\n",
        "                text_file.write('дата - ' + date + '\\n')\n",
        "                text_file.write('сонун аата - ' + name+'\\n')\n",
        "                text_file.write(content+'\\n')\n",
        "            text_file.close()\n",
        "            count += 1\n",
        "        print(count)\n",
        "    return count"
      ],
      "execution_count": null,
      "outputs": []
    },
    {
      "cell_type": "code",
      "metadata": {
        "id": "kG0jOEwtPstv",
        "colab": {
          "base_uri": "https://localhost:8080/"
        },
        "outputId": "73536976-3e8d-4db0-98b6-5d9476336917"
      },
      "source": [
        "parser()"
      ],
      "execution_count": null,
      "outputs": [
        {
          "output_type": "stream",
          "name": "stdout",
          "text": [
            "16\n",
            "32\n",
            "48\n",
            "64\n",
            "80\n",
            "96\n",
            "112\n",
            "128\n",
            "144\n",
            "160\n",
            "176\n",
            "192\n",
            "208\n",
            "224\n",
            "240\n",
            "256\n",
            "272\n",
            "288\n",
            "304\n",
            "320\n",
            "336\n",
            "352\n",
            "368\n"
          ]
        },
        {
          "output_type": "execute_result",
          "data": {
            "text/plain": [
              "368"
            ]
          },
          "metadata": {},
          "execution_count": 20
        }
      ]
    },
    {
      "cell_type": "markdown",
      "metadata": {
        "id": "1dpLGSACQxhK"
      },
      "source": [
        "**Сайт** **Эдэр** **Саас**"
      ]
    },
    {
      "cell_type": "code",
      "metadata": {
        "id": "l5xDnnhAPC_U"
      },
      "source": [
        "BASE_URL = \"https://edersaas.ru/\""
      ],
      "execution_count": null,
      "outputs": []
    },
    {
      "cell_type": "code",
      "metadata": {
        "id": "diUKBQzT164-"
      },
      "source": [
        "def get_html(url):\n",
        "    r = requests.get(url)\n",
        "    return r.text\n",
        "\n",
        "\n",
        "def get_status(url):\n",
        "    page = requests.get(url)\n",
        "    return page.status_code\n",
        "\n",
        "\n",
        "def get_urls(html):\n",
        "    soup = BeautifulSoup(html, \"lxml\")\n",
        "    urls = []\n",
        "    for url in soup.find('div', class_='navbar').find_all('a')[1:]:\n",
        "      if len(url.get('href')) > 2:\n",
        "        urls.append(url.get('href'))\n",
        "    return urls\n",
        "\n",
        "\n",
        "def get_page_data(html):\n",
        "    soup = BeautifulSoup(html, \"lxml\")\n",
        "    news_url = soup.find_all('h3', class_=\"entry-title\")\n",
        "    url = []\n",
        "    for add in news_url:\n",
        "        try:\n",
        "            url.append(add.find('a').get('href'))\n",
        "        except:\n",
        "            url.append('')\n",
        "    return set(url)\n",
        "\n",
        "\n",
        "def get_article_content(url):\n",
        "    page = requests.get(url)\n",
        "\n",
        "    if page.status_code == 200:\n",
        "        soup = BeautifulSoup(page.text, \"lxml\")\n",
        "        try:\n",
        "            rubrika = soup.find('div', class_='post-content').find('span', class_='cat-links mag-lite-cat-2').text\n",
        "            date = soup.find('div', class_='post-content').find('time', class_='entry-date published').text.split()[-1]\n",
        "            name = soup.find('div', class_='post-content').find('h1', class_='entry-title').text.replace('\\t', '').replace('\\n', '')\n",
        "            content = soup.find('div', class_='post-content').find('div', class_='entry-content').text.replace('/t', '')\n",
        "            return rubrika, date, name, content\n",
        "        except:\n",
        "            None\n",
        "    else:\n",
        "        return None\n",
        "\n",
        "\n",
        "def parser(output='data/edersaas_data.txt', print_each=2):\n",
        "    urls = get_urls(get_html(BASE_URL))\n",
        "    for url in tqdm(urls,):\n",
        "      i = 1\n",
        "      count = 1\n",
        "      while get_status(url+'page/'+str(i)) != 404:\n",
        "        print(url+'page/'+str(i))\n",
        "        GEN_URL = url+'page/'+str(i)+'/'\n",
        "        html = get_html(GEN_URL)\n",
        "        ssylki = get_page_data(html)\n",
        "        for ss in ssylki:\n",
        "          text_file = open(output,'a')\n",
        "          rubrika, date, name, content = get_article_content(ss)\n",
        "          if content is not None:\n",
        "              text_file.write('сонун №'+str(count)+'\\n')\n",
        "              text_file.write('дата - ' + date + '\\n')\n",
        "              text_file.write('рубрика - ' + rubrika + '\\n')\n",
        "              text_file.write('сонун аата - ' + name+'\\n')\n",
        "              text_file.write(content+'\\n')\n",
        "          count = count+1\n",
        "          text_file.close()\n",
        "        i = i+1\n",
        "      print(i,count)\n",
        "    return count"
      ],
      "execution_count": null,
      "outputs": []
    },
    {
      "cell_type": "code",
      "source": [
        "parser()"
      ],
      "metadata": {
        "id": "s0lpNE7BZbCe",
        "colab": {
          "base_uri": "https://localhost:8080/"
        },
        "outputId": "61338bb2-bbcc-4306-d802-df052f0e633f"
      },
      "execution_count": null,
      "outputs": [
        {
          "output_type": "stream",
          "name": "stderr",
          "text": [
            "\r  0%|          | 0/16 [00:00<?, ?it/s]"
          ]
        },
        {
          "output_type": "stream",
          "name": "stdout",
          "text": [
            "https://edersaas.ru/category/uopsastuba/page/1\n"
          ]
        }
      ]
    },
    {
      "cell_type": "code",
      "source": [
        ""
      ],
      "metadata": {
        "id": "5Omq_-GRu8Av"
      },
      "execution_count": null,
      "outputs": []
    },
    {
      "cell_type": "markdown",
      "metadata": {
        "id": "XwbdxsNyS4bA"
      },
      "source": [
        "**Сайт** **Кыым**"
      ]
    },
    {
      "cell_type": "code",
      "metadata": {
        "id": "DUr1mlW6TVl1"
      },
      "source": [
        "BASE_URL = \"http://kyym.ru/sonunnar/\""
      ],
      "execution_count": null,
      "outputs": []
    },
    {
      "cell_type": "code",
      "source": [
        "def get_html(url):\n",
        "    r = requests.get(url)\n",
        "    return r.text\n",
        "\n",
        "\n",
        "def get_last_page(html):\n",
        "    soup = BeautifulSoup(html, \"lxml\")\n",
        "    last_page = int(soup.find_all('p', class_='counter pull-right')[0].text.split()[-1])\n",
        "    return last_page\n",
        "\n",
        "\n",
        "def get_page_data(html):\n",
        "    soup = BeautifulSoup(html, \"lxml\")\n",
        "    news_url = soup.find_all('h2', class_='article-title')\n",
        "    url = []\n",
        "    for add in news_url:\n",
        "        try:\n",
        "            url.append(add.find('a').get('href'))\n",
        "        except:\n",
        "            None\n",
        "    return url\n",
        "\n",
        "\n",
        "def get_article_content(url):\n",
        "    page = requests.get(\"http://kyym.ru\"+url)\n",
        "\n",
        "    if page.status_code == 200:\n",
        "        soup = BeautifulSoup(page.text, \"lxml\")\n",
        "        try:\n",
        "            title = soup.find_all('h1', class_='article-title')[0].find('a').get('title')\n",
        "        except:\n",
        "            title = ''\n",
        "        try:\n",
        "            rubrika = soup.find_all('dd', class_='category-name hasTooltip')[0].find('a').text\n",
        "        except:\n",
        "            rubrika = ''\n",
        "        try:\n",
        "            content = soup.find_all('section', class_='article-content clearfix')[0].text\n",
        "            date = soup.find_all('dd', class_='published hasTooltip')[0].find('time').get('datetime')\n",
        "        except:\n",
        "            date = ''\n",
        "        return title, rubrika, content, date\n",
        "    else:\n",
        "        return None\n",
        "\n",
        "\n",
        "def parser(output='data/kyym_data2.txt', print_each=2):\n",
        "    last_page = get_last_page(get_html(BASE_URL))\n",
        "    count = 2142\n",
        "    for i in range(102, last_page):\n",
        "        GEN_URL = BASE_URL[:-1]+'?start='+str(i*21)\n",
        "        html = get_html(GEN_URL)\n",
        "        urls = get_page_data(html)\n",
        "        print(urls)\n",
        "\n",
        "        for url in urls:\n",
        "            text_file = open(output,'a')\n",
        "            title, rubrika, content, date = get_article_content(url)\n",
        "            if content is not None:\n",
        "                text_file.write('сонун №'+str(count)+'\\n')\n",
        "                text_file.write('дата - ' + date + '\\n')\n",
        "                text_file.write('рубрика - ' + rubrika + '\\n')\n",
        "                text_file.write('сонун аата - ' + title+'\\n')\n",
        "                text_file.write(content+'\\n')\n",
        "            text_file.close()\n",
        "            count += 1\n",
        "        print(count)\n",
        "    return count"
      ],
      "metadata": {
        "id": "Gv5c95l4_CNM"
      },
      "execution_count": null,
      "outputs": []
    },
    {
      "cell_type": "code",
      "metadata": {
        "id": "4ajn6B0nTsNh"
      },
      "source": [
        "parser()"
      ],
      "execution_count": null,
      "outputs": []
    },
    {
      "cell_type": "markdown",
      "metadata": {
        "id": "OaaoPmnaXypI"
      },
      "source": [
        "**Сайт** **ЯСИА**"
      ]
    },
    {
      "cell_type": "code",
      "metadata": {
        "id": "cri6QLIUY_QL"
      },
      "source": [
        "BASE_URL = \"https://sakha.ysia.ru/category/s-r-n-sonunnar/\""
      ],
      "execution_count": null,
      "outputs": []
    },
    {
      "cell_type": "code",
      "source": [
        "r = requests.get(BASE_URL)"
      ],
      "metadata": {
        "id": "BeKa1dbUVEya"
      },
      "execution_count": null,
      "outputs": []
    },
    {
      "cell_type": "code",
      "source": [
        "soup = BeautifulSoup(r.text, \"lxml\")"
      ],
      "metadata": {
        "id": "SZuoYAEYVE62"
      },
      "execution_count": null,
      "outputs": []
    },
    {
      "cell_type": "code",
      "source": [
        "soup.find_all(class_='wpdmi-columns')"
      ],
      "metadata": {
        "colab": {
          "base_uri": "https://localhost:8080/"
        },
        "id": "YRfu9C1qVbys",
        "outputId": "e769fe70-dc61-4b89-a6d1-fbc40956308a"
      },
      "execution_count": null,
      "outputs": [
        {
          "output_type": "execute_result",
          "data": {
            "text/plain": [
              "[<div class=\"wpdmi-columns wpdmi-columns-layout wpdmi-columns-1 wpdmi-columns-layoutsix wpdmi-columns-normal-space\">\n",
              " <div class=\"card-article card-wpdmi-layout card-wpdmi-layoutsix card-wpdmi-normal-space card-wpdmi-theme-dark card-wpdmi-image card-wpdmi-image-top\">\n",
              " <div class=\"card-article-body\">\n",
              " <div class=\"card-article-content\">\n",
              " <div class=\"card-image card-image-wpdminews-normal\">\n",
              " <div class=\"card-thumbnail focuspoint\" data-focus-x=\"0\" data-focus-y=\"0\"> <!--    data-image-w=\"690\" data-image-h=\"460\" -->\n",
              " <div class=\"card-category\"><a href=\"https://sakha.ysia.ru/category/tya-ha-aajystybata/\">Тыа хаһаайыстыбата</a></div> <a href=\"https://sakha.ysia.ru/saha-sirin-tus-ha-aajystybalara-t-tuttaran-ebii-dohuot-killeriniehtere/\">\n",
              " <img alt=\"Саха сирин тус хаһаайыстыбалара үүт туттаран эбии дохуот киллэриниэхтэрэ\" loading=\"lazy\" src=\"https://sakha.ysia.ru/wp-content/uploads/2022/04/yakutskaya-korova-Syuldyukar-690x460.jpg\"/>\n",
              " </a>\n",
              " </div>\n",
              " </div>\n",
              " <div class=\"card-text\">\n",
              " <div class=\"card-title card-title-h5\">\n",
              " <div class=\"card-article-tools\">\n",
              " <div class=\"card-toolbar\">\n",
              " <div class=\"card-date\">\n",
              " 14:01, 06 апреля    </div>\n",
              " </div>\n",
              " </div>\n",
              " <a class=\"\" href=\"https://sakha.ysia.ru/saha-sirin-tus-ha-aajystybalara-t-tuttaran-ebii-dohuot-killeriniehtere/\">\n",
              "                     Саха сирин тус хаһаайыстыбалара үүт туттаран эбии дохуот киллэриниэхтэрэ                   </a>\n",
              " </div>\n",
              " </div>\n",
              " </div> <!-- end .card-article-content -->\n",
              " </div> <!-- end .card-article-body -->\n",
              " </div> <!-- end .card-article -->\n",
              " </div>,\n",
              " <div class=\"wpdmi-columns wpdmi-columns-layout wpdmi-columns-1 wpdmi-columns-layoutsix wpdmi-columns-normal-space\">\n",
              " <div class=\"card-article card-wpdmi-layout card-wpdmi-layoutsix card-wpdmi-normal-space card-wpdmi-theme-dark\">\n",
              " <div class=\"card-article-body\">\n",
              " <div class=\"card-article-content\">\n",
              " <div class=\"card-text\">\n",
              " <div class=\"card-title card-title-h5\">\n",
              " <div class=\"card-article-tools\">\n",
              " <div class=\"card-toolbar\">\n",
              " <div class=\"card-category\"><a href=\"https://sakha.ysia.ru/category/obshhestvo/\">Уопсастыба</a></div> <div class=\"card-date\">\n",
              " 13:02, 06 апреля    </div>\n",
              " </div>\n",
              " </div>\n",
              " <a class=\"\" href=\"https://sakha.ysia.ru/ee-b-l-ge-yytyllar-olo-ho-y-ya-ar-belemnenii-da-ala-ke-iir/\">\n",
              "                     Үөһээ Бүлүүгэ ыытыллар Олоҥхо ыһыаҕар бэлэмнэнии дьаһала кэҥиир                   </a>\n",
              " </div>\n",
              " </div>\n",
              " </div> <!-- end .card-article-content -->\n",
              " </div> <!-- end .card-article-body -->\n",
              " </div> <!-- end .card-article -->\n",
              " <div class=\"card-article card-wpdmi-layout card-wpdmi-layoutsix card-wpdmi-normal-space card-wpdmi-theme-dark\">\n",
              " <div class=\"card-article-body\">\n",
              " <div class=\"card-article-content\">\n",
              " <div class=\"card-text\">\n",
              " <div class=\"card-title card-title-h5\">\n",
              " <div class=\"card-article-tools\">\n",
              " <div class=\"card-toolbar\">\n",
              " <div class=\"card-category\"><a href=\"https://sakha.ysia.ru/category/3169-351/\">Тутуу</a></div> <div class=\"card-date\">\n",
              " 12:01, 06 апреля    </div>\n",
              " </div>\n",
              " </div>\n",
              " <a class=\"\" href=\"https://sakha.ysia.ru/gornaj-uluu-ugar-internattaah-tir-tutulunna/\">\n",
              "                     Горнай улууһугар интернаттаах тир тутулунна                   </a>\n",
              " </div>\n",
              " </div>\n",
              " </div> <!-- end .card-article-content -->\n",
              " </div> <!-- end .card-article-body -->\n",
              " </div> <!-- end .card-article -->\n",
              " </div>,\n",
              " <div class=\"wpdmi-columns wpdmi-columns-layout wpdmi-columns-1 wpdmi-columns-layoutsix wpdmi-columns-normal-space\">\n",
              " <div class=\"card-article card-wpdmi-layout card-wpdmi-layoutsix card-wpdmi-normal-space card-wpdmi-theme-dark card-wpdmi-image card-wpdmi-image-top\">\n",
              " <div class=\"card-article-body\">\n",
              " <div class=\"card-article-content\">\n",
              " <div class=\"card-image card-image-wpdminews-normal\">\n",
              " <div class=\"card-thumbnail focuspoint\" data-focus-x=\"0\" data-focus-y=\"0\"> <!--    data-image-w=\"690\" data-image-h=\"460\" -->\n",
              " <div class=\"card-category\"><a href=\"https://sakha.ysia.ru/category/ekonomika/\">Экономика</a></div> <a href=\"https://sakha.ysia.ru/kommunalnaj-i-in-t-l-b-rge-beriller-kumaa-y-kvitantsiyany-elektronnajga-k-r-r-bylaannaahtar/\">\n",
              " <img alt=\"Коммунальнай өҥө иһин төлөбүргэ бэриллэр кумааҕы квитанцияны электроннайга көһөрөр былааннаахтар\" loading=\"lazy\" src=\"https://sakha.ysia.ru/wp-content/uploads/2022/04/gchyl1629790962-690x460.jpeg\"/>\n",
              " </a>\n",
              " </div>\n",
              " </div>\n",
              " <div class=\"card-text\">\n",
              " <div class=\"card-title card-title-h5\">\n",
              " <div class=\"card-article-tools\">\n",
              " <div class=\"card-toolbar\">\n",
              " <div class=\"card-date\">\n",
              " 11:01, 06 апреля    </div>\n",
              " </div>\n",
              " </div>\n",
              " <a class=\"\" href=\"https://sakha.ysia.ru/kommunalnaj-i-in-t-l-b-rge-beriller-kumaa-y-kvitantsiyany-elektronnajga-k-r-r-bylaannaahtar/\">\n",
              "                     Коммунальнай өҥө иһин төлөбүргэ бэриллэр кумааҕы квитанцияны электроннайга көһөрөр былааннаахтар                   </a>\n",
              " </div>\n",
              " </div>\n",
              " </div> <!-- end .card-article-content -->\n",
              " </div> <!-- end .card-article-body -->\n",
              " </div> <!-- end .card-article -->\n",
              " </div>,\n",
              " <div class=\"wpdmi-columns wpdmi-columns-layout wpdmi-columns-1 wpdmi-columns-layoutsix wpdmi-columns-normal-space\">\n",
              " <div class=\"card-article card-wpdmi-layout card-wpdmi-layoutsix card-wpdmi-normal-space card-wpdmi-theme-dark\">\n",
              " <div class=\"card-article-body\">\n",
              " <div class=\"card-article-content\">\n",
              " <div class=\"card-text\">\n",
              " <div class=\"card-title card-title-h5\">\n",
              " <div class=\"card-article-tools\">\n",
              " <div class=\"card-toolbar\">\n",
              " <div class=\"card-category\"><a href=\"https://sakha.ysia.ru/category/3169-460/\">Сибээс</a></div> <div class=\"card-date\">\n",
              " 10:01, 06 апреля    </div>\n",
              " </div>\n",
              " </div>\n",
              " <a class=\"\" href=\"https://sakha.ysia.ru/becheettiir-smi-lerge-500-m-l-solkuobajy-bieriehtere/\">\n",
              "                     Бэчээттиир СМИ-лэргэ 500 мөл солкуобайы биэриэхтэрэ                   </a>\n",
              " </div>\n",
              " </div>\n",
              " </div> <!-- end .card-article-content -->\n",
              " </div> <!-- end .card-article-body -->\n",
              " </div> <!-- end .card-article -->\n",
              " <div class=\"card-article card-wpdmi-layout card-wpdmi-layoutsix card-wpdmi-normal-space card-wpdmi-theme-dark\">\n",
              " <div class=\"card-article-body\">\n",
              " <div class=\"card-article-content\">\n",
              " <div class=\"card-text\">\n",
              " <div class=\"card-title card-title-h5\">\n",
              " <div class=\"card-article-tools\">\n",
              " <div class=\"card-toolbar\">\n",
              " <div class=\"card-category\"><a href=\"https://sakha.ysia.ru/category/obshhestvo/\">Уопсастыба</a></div> <div class=\"card-date\">\n",
              " 09:01, 06 апреля    </div>\n",
              " </div>\n",
              " </div>\n",
              " <a class=\"\" href=\"https://sakha.ysia.ru/muus-ustar-6-k-ne-1945-syllaahha-kyonigsberg-kuoraty-ylyy-sa-alammyt-bikipiedije/\">\n",
              "                     Муус устар 6 күнэ. 1945 сыллаахха Кёнигсберг куораты ылыы саҕаламмыт - Бикипиэдьийэ                   </a>\n",
              " </div>\n",
              " </div>\n",
              " </div> <!-- end .card-article-content -->\n",
              " </div> <!-- end .card-article-body -->\n",
              " </div> <!-- end .card-article -->\n",
              " </div>,\n",
              " <div class=\"wpdmi-columns wpdmi-columns-layout wpdmi-columns-1 wpdmi-columns-layoutsix wpdmi-columns-normal-space\">\n",
              " <div class=\"card-article card-wpdmi-layout card-wpdmi-layoutsix card-wpdmi-normal-space card-wpdmi-theme-dark\">\n",
              " <div class=\"card-article-body\">\n",
              " <div class=\"card-article-content\">\n",
              " <div class=\"card-text\">\n",
              " <div class=\"card-title card-title-h5\">\n",
              " <div class=\"card-article-tools\">\n",
              " <div class=\"card-toolbar\">\n",
              " <div class=\"card-category\"><a href=\"https://sakha.ysia.ru/category/doruobuja-harystabyla/\">Доруобуйа харыстабыла</a></div> <div class=\"card-date\">\n",
              " 18:01, 05 апреля    </div>\n",
              " </div>\n",
              " </div>\n",
              " <a class=\"\" href=\"https://sakha.ysia.ru/3-ty-yynchattan-tahsa-ki-i-uulussa-a-echejii-ylan-k-m-k-rd-st-ler/\">\n",
              "                     1600  тахса киһи уулуссаҕа эчэйии ылан көмө көрдөстүлэр                   </a>\n",
              " </div>\n",
              " </div>\n",
              " </div> <!-- end .card-article-content -->\n",
              " </div> <!-- end .card-article-body -->\n",
              " </div> <!-- end .card-article -->\n",
              " <div class=\"card-article card-wpdmi-layout card-wpdmi-layoutsix card-wpdmi-normal-space card-wpdmi-theme-dark\">\n",
              " <div class=\"card-article-body\">\n",
              " <div class=\"card-article-content\">\n",
              " <div class=\"card-text\">\n",
              " <div class=\"card-title card-title-h5\">\n",
              " <div class=\"card-article-tools\">\n",
              " <div class=\"card-toolbar\">\n",
              " <div class=\"card-category\"><a href=\"https://sakha.ysia.ru/category/obshhestvo/\">Уопсастыба</a></div> <div class=\"card-date\">\n",
              " 17:02, 05 апреля    </div>\n",
              " </div>\n",
              " </div>\n",
              " <a class=\"\" href=\"https://sakha.ysia.ru/sotsialnaj-hantyraak-hajyshata-ke-etiller/\">\n",
              "                     Социальнай хантыраак хайысхата кэҥэтиллэр                   </a>\n",
              " </div>\n",
              " </div>\n",
              " </div> <!-- end .card-article-content -->\n",
              " </div> <!-- end .card-article-body -->\n",
              " </div> <!-- end .card-article -->\n",
              " </div>,\n",
              " <div class=\"wpdmi-columns wpdmi-columns-layout wpdmi-columns-1 wpdmi-columns-layoutsix wpdmi-columns-normal-space\">\n",
              " <div class=\"card-article card-wpdmi-layout card-wpdmi-layoutsix card-wpdmi-normal-space card-wpdmi-theme-dark card-wpdmi-image card-wpdmi-image-top\">\n",
              " <div class=\"card-article-body\">\n",
              " <div class=\"card-article-content\">\n",
              " <div class=\"card-image card-image-wpdminews-normal\">\n",
              " <div class=\"card-thumbnail focuspoint\" data-focus-x=\"0\" data-focus-y=\"0\"> <!--    data-image-w=\"690\" data-image-h=\"460\" -->\n",
              " <div class=\"card-category\"><a href=\"https://sakha.ysia.ru/category/obshhestvo/\">Уопсастыба</a></div> <a href=\"https://sakha.ysia.ru/inbeliitteri-reabilitatsiyalaa-yn-orduk-tabygastaah-buoluo-a/\">\n",
              " <img alt=\"Инбэлииттэри реабилитациялааһын ордук табыгастаах буолуоҕа\" loading=\"lazy\" src=\"https://sakha.ysia.ru/wp-content/uploads/2022/04/invalidy-2-690x460.jpg\"/>\n",
              " </a>\n",
              " </div>\n",
              " </div>\n",
              " <div class=\"card-text\">\n",
              " <div class=\"card-title card-title-h5\">\n",
              " <div class=\"card-article-tools\">\n",
              " <div class=\"card-toolbar\">\n",
              " <div class=\"card-date\">\n",
              " 16:01, 05 апреля    </div>\n",
              " </div>\n",
              " </div>\n",
              " <a class=\"\" href=\"https://sakha.ysia.ru/inbeliitteri-reabilitatsiyalaa-yn-orduk-tabygastaah-buoluo-a/\">\n",
              "                     Инбэлииттэри реабилитациялааһын ордук табыгастаах буолуоҕа                   </a>\n",
              " </div>\n",
              " </div>\n",
              " </div> <!-- end .card-article-content -->\n",
              " </div> <!-- end .card-article-body -->\n",
              " </div> <!-- end .card-article -->\n",
              " </div>,\n",
              " <div class=\"wpdmi-columns wpdmi-columns-layout wpdmi-columns-1 wpdmi-columns-layoutsix wpdmi-columns-normal-space\">\n",
              " <div class=\"card-article card-wpdmi-layout card-wpdmi-layoutsix card-wpdmi-normal-space card-wpdmi-theme-dark\">\n",
              " <div class=\"card-article-body\">\n",
              " <div class=\"card-article-content\">\n",
              " <div class=\"card-text\">\n",
              " <div class=\"card-title card-title-h5\">\n",
              " <div class=\"card-article-tools\">\n",
              " <div class=\"card-toolbar\">\n",
              " <div class=\"card-category\"><a href=\"https://sakha.ysia.ru/category/obshhestvo/\">Уопсастыба</a></div> <div class=\"card-date\">\n",
              " 15:01, 05 апреля    </div>\n",
              " </div>\n",
              " </div>\n",
              " <a class=\"\" href=\"https://sakha.ysia.ru/roskosmos-ba-ylyga-rogozin-nato-shtabyn-sputniktan-t-eriitin-ta-aarda/\">\n",
              "                     \"Роскосмос\" баһылыга Рогозин НАТО штабын спутниктан түһэриитин таһаарда                   </a>\n",
              " </div>\n",
              " </div>\n",
              " </div> <!-- end .card-article-content -->\n",
              " </div> <!-- end .card-article-body -->\n",
              " </div> <!-- end .card-article -->\n",
              " <div class=\"card-article card-wpdmi-layout card-wpdmi-layoutsix card-wpdmi-normal-space card-wpdmi-theme-dark\">\n",
              " <div class=\"card-article-body\">\n",
              " <div class=\"card-article-content\">\n",
              " <div class=\"card-text\">\n",
              " <div class=\"card-title card-title-h5\">\n",
              " <div class=\"card-article-tools\">\n",
              " <div class=\"card-toolbar\">\n",
              " <div class=\"card-category\"><a href=\"https://sakha.ysia.ru/category/3169-329/\">Тырааныспар</a></div> <div class=\"card-date\">\n",
              " 14:01, 05 апреля    </div>\n",
              " </div>\n",
              " </div>\n",
              " <a class=\"\" href=\"https://sakha.ysia.ru/allaraa-besteeh-stantsiyatygar-282-boguon-noruot-tuttar-tabaara-baar/\">\n",
              "                     \"Аллараа Бэстээх\" станциятыгар 282 богуон норуот туттар табаара баар                   </a>\n",
              " </div>\n",
              " </div>\n",
              " </div> <!-- end .card-article-content -->\n",
              " </div> <!-- end .card-article-body -->\n",
              " </div> <!-- end .card-article -->\n",
              " </div>,\n",
              " <div class=\"wpdmi-columns wpdmi-columns-layout wpdmi-columns-1 wpdmi-columns-layoutsix wpdmi-columns-normal-space\">\n",
              " <div class=\"card-article card-wpdmi-layout card-wpdmi-layoutsix card-wpdmi-normal-space card-wpdmi-theme-dark card-wpdmi-image card-wpdmi-image-top\">\n",
              " <div class=\"card-article-body\">\n",
              " <div class=\"card-article-content\">\n",
              " <div class=\"card-image card-image-wpdminews-normal\">\n",
              " <div class=\"card-thumbnail focuspoint\" data-focus-x=\"0\" data-focus-y=\"0\"> <!--    data-image-w=\"690\" data-image-h=\"460\" -->\n",
              " <div class=\"card-category\"><a href=\"https://sakha.ysia.ru/category/obshhestvo/\">Уопсастыба</a></div> <a href=\"https://sakha.ysia.ru/saha-siriger-ijeni-uonna-o-onu-j-rge-ebii-milliard-keri-e-p-k-r-l-nne/\">\n",
              " <img alt=\"Саха сиригэр ийэни уонна оҕону өйүүргэ эбии миллиард кэриҥэ үп көрүлүннэ\" loading=\"lazy\" src=\"https://sakha.ysia.ru/wp-content/uploads/2022/04/Molodaya-mama-s-rebenkom-690x460.jpg\"/>\n",
              " </a>\n",
              " </div>\n",
              " </div>\n",
              " <div class=\"card-text\">\n",
              " <div class=\"card-title card-title-h5\">\n",
              " <div class=\"card-article-tools\">\n",
              " <div class=\"card-toolbar\">\n",
              " <div class=\"card-date\">\n",
              " 13:01, 05 апреля    </div>\n",
              " </div>\n",
              " </div>\n",
              " <a class=\"\" href=\"https://sakha.ysia.ru/saha-siriger-ijeni-uonna-o-onu-j-rge-ebii-milliard-keri-e-p-k-r-l-nne/\">\n",
              "                     Саха сиригэр ийэни уонна оҕону өйүүргэ эбии миллиард кэриҥэ үп көрүлүннэ                   </a>\n",
              " </div>\n",
              " </div>\n",
              " </div> <!-- end .card-article-content -->\n",
              " </div> <!-- end .card-article-body -->\n",
              " </div> <!-- end .card-article -->\n",
              " </div>,\n",
              " <div class=\"wpdmi-columns wpdmi-columns-layout wpdmi-columns-1 wpdmi-columns-layoutsix wpdmi-columns-normal-space\">\n",
              " <div class=\"card-article card-wpdmi-layout card-wpdmi-layoutsix card-wpdmi-normal-space card-wpdmi-theme-dark card-wpdmi-image card-wpdmi-image-top\">\n",
              " <div class=\"card-article-body\">\n",
              " <div class=\"card-article-content\">\n",
              " <div class=\"card-image card-image-wpdminews-normal\">\n",
              " <div class=\"card-thumbnail focuspoint\" data-focus-x=\"0\" data-focus-y=\"0\"> <!--    data-image-w=\"690\" data-image-h=\"460\" -->\n",
              " <div class=\"card-category\"><a href=\"https://sakha.ysia.ru/category/obshhestvo/\">Уопсастыба</a></div> <a href=\"https://sakha.ysia.ru/saha-siriger-t-so-otuopkalaa-y-a-s-milliartan-tahsa-solkuobajy-yytyahtara/\">\n",
              " <img alt=\"Саха сиригэр үүтү соҕотуопкалааһыҥҥа үс миллиартан тахса солкуобайы ыытыахтара\" loading=\"lazy\" src=\"https://sakha.ysia.ru/wp-content/uploads/2022/04/1-96-960x640-1-690x460.jpg\"/>\n",
              " </a>\n",
              " </div>\n",
              " </div>\n",
              " <div class=\"card-text\">\n",
              " <div class=\"card-title card-title-h5\">\n",
              " <div class=\"card-article-tools\">\n",
              " <div class=\"card-toolbar\">\n",
              " <div class=\"card-date\">\n",
              " 12:01, 05 апреля    </div>\n",
              " </div>\n",
              " </div>\n",
              " <a class=\"\" href=\"https://sakha.ysia.ru/saha-siriger-t-so-otuopkalaa-y-a-s-milliartan-tahsa-solkuobajy-yytyahtara/\">\n",
              "                     Саха сиригэр үүтү соҕотуопкалааһыҥҥа үс миллиартан тахса солкуобайы ыытыахтара                   </a>\n",
              " </div>\n",
              " </div>\n",
              " </div> <!-- end .card-article-content -->\n",
              " </div> <!-- end .card-article-body -->\n",
              " </div> <!-- end .card-article -->\n",
              " </div>,\n",
              " <div class=\"wpdmi-columns wpdmi-columns-layout wpdmi-columns-1 wpdmi-columns-layoutsix wpdmi-columns-normal-space\">\n",
              " <div class=\"card-article card-wpdmi-layout card-wpdmi-layoutsix card-wpdmi-normal-space card-wpdmi-theme-dark\">\n",
              " <div class=\"card-article-body\">\n",
              " <div class=\"card-article-content\">\n",
              " <div class=\"card-text\">\n",
              " <div class=\"card-title card-title-h5\">\n",
              " <div class=\"card-article-tools\">\n",
              " <div class=\"card-toolbar\">\n",
              " <div class=\"card-category\"><a href=\"https://sakha.ysia.ru/category/ekonomika/\">Экономика</a></div> <div class=\"card-date\">\n",
              " 12:00, 05 апреля    </div>\n",
              " </div>\n",
              " </div>\n",
              " <a class=\"\" href=\"https://sakha.ysia.ru/il-darhan-nedielete-r-sp-b-l-ke-b-dd-t-ger-p-no-uruuskatyn-namtatar-syal-turar/\">\n",
              "                     Ил Дархан нэдиэлэтэ: Өрөспүүбүлүкэ бүддьүөтүгэр үп ноҕуруускатын намтатар сыал турар                   </a>\n",
              " </div>\n",
              " </div>\n",
              " </div> <!-- end .card-article-content -->\n",
              " </div> <!-- end .card-article-body -->\n",
              " </div> <!-- end .card-article -->\n",
              " <div class=\"card-article card-wpdmi-layout card-wpdmi-layoutsix card-wpdmi-normal-space card-wpdmi-theme-dark\">\n",
              " <div class=\"card-article-body\">\n",
              " <div class=\"card-article-content\">\n",
              " <div class=\"card-text\">\n",
              " <div class=\"card-title card-title-h5\">\n",
              " <div class=\"card-article-tools\">\n",
              " <div class=\"card-toolbar\">\n",
              " <div class=\"card-category\"><a href=\"https://sakha.ysia.ru/category/ekonomika/\">Экономика</a></div> <div class=\"card-date\">\n",
              " 11:01, 05 апреля    </div>\n",
              " </div>\n",
              " </div>\n",
              " <a class=\"\" href=\"https://sakha.ysia.ru/ajsen-nikolaev-federalnaj-kiinten-s-pt-h-j-b-l-toloru-baar/\">\n",
              "                     Айсен Николаев «Федеральнай киинтэн сөптөөх өйөбүл толору баар»                   </a>\n",
              " </div>\n",
              " </div>\n",
              " </div> <!-- end .card-article-content -->\n",
              " </div> <!-- end .card-article-body -->\n",
              " </div> <!-- end .card-article -->\n",
              " </div>,\n",
              " <div class=\"wpdmi-columns wpdmi-columns-layout wpdmi-columns-1 wpdmi-columns-layoutsix wpdmi-columns-normal-space\">\n",
              " <div class=\"card-article card-wpdmi-layout card-wpdmi-layoutsix card-wpdmi-normal-space card-wpdmi-theme-dark card-wpdmi-image card-wpdmi-image-top\">\n",
              " <div class=\"card-article-body\">\n",
              " <div class=\"card-article-content\">\n",
              " <div class=\"card-image card-image-wpdminews-normal\">\n",
              " <div class=\"card-thumbnail focuspoint\" data-focus-x=\"0\" data-focus-y=\"0\"> <!--    data-image-w=\"690\" data-image-h=\"460\" -->\n",
              " <div class=\"card-category\"><a href=\"https://sakha.ysia.ru/category/obshhestvo/\">Уопсастыба</a></div> <a href=\"https://sakha.ysia.ru/saha-siriger-tya-ha-aajystybatyn-kultuuratyn-y-yy-ienin-1200-gektarynan-ke-etiehtere/\">\n",
              " <img alt=\"Саха сиригэр тыа хаһаайыстыбатын култууратын ыһыы иэнин 1200 гектарынан кэҥэтиэхтэрэ\" loading=\"lazy\" src=\"https://sakha.ysia.ru/wp-content/uploads/2022/04/eff7ba8cea95a40c0129b9ff2e6d8c44028f10f3-960x640-1-690x460.jpg\"/>\n",
              " </a>\n",
              " </div>\n",
              " </div>\n",
              " <div class=\"card-text\">\n",
              " <div class=\"card-title card-title-h5\">\n",
              " <div class=\"card-article-tools\">\n",
              " <div class=\"card-toolbar\">\n",
              " <div class=\"card-date\">\n",
              " 10:01, 05 апреля    </div>\n",
              " </div>\n",
              " </div>\n",
              " <a class=\"\" href=\"https://sakha.ysia.ru/saha-siriger-tya-ha-aajystybatyn-kultuuratyn-y-yy-ienin-1200-gektarynan-ke-etiehtere/\">\n",
              "                     Саха сиригэр тыа хаһаайыстыбатын култууратын ыһыы иэнин 1200 гектарынан кэҥэтиэхтэрэ                   </a>\n",
              " </div>\n",
              " </div>\n",
              " </div> <!-- end .card-article-content -->\n",
              " </div> <!-- end .card-article-body -->\n",
              " </div> <!-- end .card-article -->\n",
              " </div>,\n",
              " <div class=\"wpdmi-columns wpdmi-columns-layout wpdmi-columns-1 wpdmi-columns-layoutsix wpdmi-columns-normal-space\">\n",
              " <div class=\"card-article card-wpdmi-layout card-wpdmi-layoutsix card-wpdmi-normal-space card-wpdmi-theme-dark\">\n",
              " <div class=\"card-article-body\">\n",
              " <div class=\"card-article-content\">\n",
              " <div class=\"card-text\">\n",
              " <div class=\"card-title card-title-h5\">\n",
              " <div class=\"card-article-tools\">\n",
              " <div class=\"card-toolbar\">\n",
              " <div class=\"card-category\"><a href=\"https://sakha.ysia.ru/category/obshhestvo/\">Уопсастыба</a></div> <div class=\"card-date\">\n",
              " 09:01, 05 апреля    </div>\n",
              " </div>\n",
              " </div>\n",
              " <a class=\"\" href=\"https://sakha.ysia.ru/muus-ustar-5-k-ne-1977-syllaahha-bastaky-vaz-2121-niva-massyyna-tahsybyt-bikipiedije/\">\n",
              "                     Муус устар 5 күнэ. 1977 сыллаахха бастакы ВАЗ-2121 «Нива» массыына тахсыбыт - Бикипиэдьийэ                   </a>\n",
              " </div>\n",
              " </div>\n",
              " </div> <!-- end .card-article-content -->\n",
              " </div> <!-- end .card-article-body -->\n",
              " </div> <!-- end .card-article -->\n",
              " <div class=\"card-article card-wpdmi-layout card-wpdmi-layoutsix card-wpdmi-normal-space card-wpdmi-theme-dark\">\n",
              " <div class=\"card-article-body\">\n",
              " <div class=\"card-article-content\">\n",
              " <div class=\"card-text\">\n",
              " <div class=\"card-title card-title-h5\">\n",
              " <div class=\"card-article-tools\">\n",
              " <div class=\"card-toolbar\">\n",
              " <div class=\"card-category\"><a href=\"https://sakha.ysia.ru/category/3169-329/\">Тырааныспар</a></div> <div class=\"card-date\">\n",
              " 18:01, 04 апреля    </div>\n",
              " </div>\n",
              " </div>\n",
              " <a class=\"\" href=\"https://sakha.ysia.ru/me-e-ha-alas-uluu-ugar-suol-by-ylaanygar-dahtar-emse-eleete/\">\n",
              "                     Мэҥэ Хаҥалас улууһугар суол быһылааныгар дьахтар эмсэҕэлээтэ                   </a>\n",
              " </div>\n",
              " </div>\n",
              " </div> <!-- end .card-article-content -->\n",
              " </div> <!-- end .card-article-body -->\n",
              " </div> <!-- end .card-article -->\n",
              " </div>,\n",
              " <div class=\"wpdmi-columns wpdmi-columns-layout wpdmi-columns-1 wpdmi-columns-layoutsix wpdmi-columns-normal-space\">\n",
              " <div class=\"card-article card-wpdmi-layout card-wpdmi-layoutsix card-wpdmi-normal-space card-wpdmi-theme-dark\">\n",
              " <div class=\"card-article-body\">\n",
              " <div class=\"card-article-content\">\n",
              " <div class=\"card-text\">\n",
              " <div class=\"card-title card-title-h5\">\n",
              " <div class=\"card-article-tools\">\n",
              " <div class=\"card-toolbar\">\n",
              " <div class=\"card-category\"><a href=\"https://sakha.ysia.ru/category/3169-322/\">Ыччат политиката</a></div> <div class=\"card-date\">\n",
              " 17:01, 04 апреля    </div>\n",
              " </div>\n",
              " </div>\n",
              " <a class=\"\" href=\"https://sakha.ysia.ru/petr-uonna-arsenij-chuprovtar-a-a-k-re-er-il-darhan-birii-in-tuttular/\">\n",
              "                     Петр уонна Арсений Чупровтар \"Аҕа күрэҕэр\" Ил Дархан бирииһин туттулар                   </a>\n",
              " </div>\n",
              " </div>\n",
              " </div> <!-- end .card-article-content -->\n",
              " </div> <!-- end .card-article-body -->\n",
              " </div> <!-- end .card-article -->\n",
              " <div class=\"card-article card-wpdmi-layout card-wpdmi-layoutsix card-wpdmi-normal-space card-wpdmi-theme-dark\">\n",
              " <div class=\"card-article-body\">\n",
              " <div class=\"card-article-content\">\n",
              " <div class=\"card-text\">\n",
              " <div class=\"card-title card-title-h5\">\n",
              " <div class=\"card-article-tools\">\n",
              " <div class=\"card-toolbar\">\n",
              " <div class=\"card-category\"><a href=\"https://sakha.ysia.ru/category/3169-4586/\">Тыа сирэ</a></div> <div class=\"card-date\">\n",
              " 16:01, 04 апреля    </div>\n",
              " </div>\n",
              " </div>\n",
              " <a class=\"\" href=\"https://sakha.ysia.ru/ee-b-l-ge-buuchuguras-turnirygar-sa-a-massyynany-boris-tarasov-s-jde/\">\n",
              "                     Үөһээ Бүлүүгэ «Буучугурас» турнирыгар саҥа массыынаны Борис Тарасов сүүйдэ                   </a>\n",
              " </div>\n",
              " </div>\n",
              " </div> <!-- end .card-article-content -->\n",
              " </div> <!-- end .card-article-body -->\n",
              " </div> <!-- end .card-article -->\n",
              " </div>,\n",
              " <div class=\"wpdmi-columns wpdmi-columns-layout wpdmi-columns-1 wpdmi-columns-layoutsix wpdmi-columns-normal-space\">\n",
              " <div class=\"card-article card-wpdmi-layout card-wpdmi-layoutsix card-wpdmi-normal-space card-wpdmi-theme-dark card-wpdmi-image card-wpdmi-image-top\">\n",
              " <div class=\"card-article-body\">\n",
              " <div class=\"card-article-content\">\n",
              " <div class=\"card-image card-image-wpdminews-normal\">\n",
              " <div class=\"card-thumbnail focuspoint\" data-focus-x=\"0\" data-focus-y=\"0\"> <!--    data-image-w=\"690\" data-image-h=\"460\" -->\n",
              " <div class=\"card-category\"><a href=\"https://sakha.ysia.ru/category/3169-323/\">Экология</a></div> <a href=\"https://sakha.ysia.ru/g-leetter-2024-syltan-sir-annyttan-ylyllybyt-uunu-i-iehtere/\">\n",
              " <img alt=\"Үгүлээттэр 2024 сылтан сир анныттан ылыллыбыт ууну иһиэхтэрэ\" loading=\"lazy\" src=\"https://sakha.ysia.ru/wp-content/uploads/2022/04/0a0e8b8c0a5b2f3870693168f2d997af_photo-690x460.jpg\"/>\n",
              " </a>\n",
              " </div>\n",
              " </div>\n",
              " <div class=\"card-text\">\n",
              " <div class=\"card-title card-title-h5\">\n",
              " <div class=\"card-article-tools\">\n",
              " <div class=\"card-toolbar\">\n",
              " <div class=\"card-date\">\n",
              " 15:02, 04 апреля    </div>\n",
              " </div>\n",
              " </div>\n",
              " <a class=\"\" href=\"https://sakha.ysia.ru/g-leetter-2024-syltan-sir-annyttan-ylyllybyt-uunu-i-iehtere/\">\n",
              "                     Үгүлээттэр 2024 сылтан сир анныттан ылыллыбыт ууну иһиэхтэрэ                   </a>\n",
              " </div>\n",
              " </div>\n",
              " </div> <!-- end .card-article-content -->\n",
              " </div> <!-- end .card-article-body -->\n",
              " </div> <!-- end .card-article -->\n",
              " </div>,\n",
              " <div class=\"wpdmi-columns wpdmi-columns-layout wpdmi-columns-1 wpdmi-columns-layoutsix wpdmi-columns-normal-space\">\n",
              " <div class=\"card-article card-wpdmi-layout card-wpdmi-layoutsix card-wpdmi-normal-space card-wpdmi-theme-dark\">\n",
              " <div class=\"card-article-body\">\n",
              " <div class=\"card-article-content\">\n",
              " <div class=\"card-text\">\n",
              " <div class=\"card-title card-title-h5\">\n",
              " <div class=\"card-article-tools\">\n",
              " <div class=\"card-toolbar\">\n",
              " <div class=\"card-category\"><a href=\"https://sakha.ysia.ru/category/reh-uonna-nauka/\">Үөрэх уонна наука</a></div> <div class=\"card-date\">\n",
              " 14:01, 04 апреля    </div>\n",
              " </div>\n",
              " </div>\n",
              " <a class=\"\" href=\"https://sakha.ysia.ru/iiter-dono-suoh-haalbyt-oskuolany-b-tereechchilerge-biensijelerin-rehhe-kiiriehteriger-dieri-bieriehtere/\">\n",
              "                     Иитэр дьоно суох хаалбыт оскуоланы бүтэрээччилэргэ биэнсийэлэрин үөрэххэ киириэхтэригэр диэри биэ...                   </a>\n",
              " </div>\n",
              " </div>\n",
              " </div> <!-- end .card-article-content -->\n",
              " </div> <!-- end .card-article-body -->\n",
              " </div> <!-- end .card-article -->\n",
              " <div class=\"card-article card-wpdmi-layout card-wpdmi-layoutsix card-wpdmi-normal-space card-wpdmi-theme-dark\">\n",
              " <div class=\"card-article-body\">\n",
              " <div class=\"card-article-content\">\n",
              " <div class=\"card-text\">\n",
              " <div class=\"card-title card-title-h5\">\n",
              " <div class=\"card-article-tools\">\n",
              " <div class=\"card-toolbar\">\n",
              " <div class=\"card-category\"><a href=\"https://sakha.ysia.ru/category/obshhestvo/\">Уопсастыба</a></div> <div class=\"card-date\">\n",
              " 13:01, 04 апреля    </div>\n",
              " </div>\n",
              " </div>\n",
              " <a class=\"\" href=\"https://sakha.ysia.ru/l-n-olohtoohtoro-arassyyja-hajy-ara-2022-teree-i-e-kytynnylar/\">\n",
              "                     Өлөөн олохтоохторо \"Арассыыйа хайыһара-2022\" тэрээһиҥҥэ кытыннылар                   </a>\n",
              " </div>\n",
              " </div>\n",
              " </div> <!-- end .card-article-content -->\n",
              " </div> <!-- end .card-article-body -->\n",
              " </div> <!-- end .card-article -->\n",
              " </div>,\n",
              " <div class=\"wpdmi-columns wpdmi-columns-layout wpdmi-columns-1 wpdmi-columns-layoutsix wpdmi-columns-normal-space\">\n",
              " <div class=\"card-article card-wpdmi-layout card-wpdmi-layoutsix card-wpdmi-normal-space card-wpdmi-theme-dark card-wpdmi-image card-wpdmi-image-top\">\n",
              " <div class=\"card-article-body\">\n",
              " <div class=\"card-article-content\">\n",
              " <div class=\"card-image card-image-wpdminews-normal\">\n",
              " <div class=\"card-thumbnail focuspoint\" data-focus-x=\"0\" data-focus-y=\"0\"> <!--    data-image-w=\"690\" data-image-h=\"460\" -->\n",
              " <div class=\"card-category\"><a href=\"https://sakha.ysia.ru/category/obshhestvo/\">Уопсастыба</a></div> <a href=\"https://sakha.ysia.ru/dokuuskajga-haar-t-sp-t-n-kenne-trotuardary-yraastyyr-leleri-k-rd-htere/\">\n",
              " <img alt=\"Дьокуускайга хаар түспүтүн кэннэ тротуардары ыраастыыр үлэлэри күүһүрдүөхтэрэ\" loading=\"lazy\" src=\"https://sakha.ysia.ru/wp-content/uploads/2022/04/vyvoz-snega-1-960x640-1-690x460.jpg\"/>\n",
              " </a>\n",
              " </div>\n",
              " </div>\n",
              " <div class=\"card-text\">\n",
              " <div class=\"card-title card-title-h5\">\n",
              " <div class=\"card-article-tools\">\n",
              " <div class=\"card-toolbar\">\n",
              " <div class=\"card-date\">\n",
              " 12:01, 04 апреля    </div>\n",
              " </div>\n",
              " </div>\n",
              " <a class=\"\" href=\"https://sakha.ysia.ru/dokuuskajga-haar-t-sp-t-n-kenne-trotuardary-yraastyyr-leleri-k-rd-htere/\">\n",
              "                     Дьокуускайга хаар түспүтүн кэннэ тротуардары ыраастыыр үлэлэри күүһүрдүөхтэрэ                   </a>\n",
              " </div>\n",
              " </div>\n",
              " </div> <!-- end .card-article-content -->\n",
              " </div> <!-- end .card-article-body -->\n",
              " </div> <!-- end .card-article -->\n",
              " </div>]"
            ]
          },
          "metadata": {},
          "execution_count": 12
        }
      ]
    },
    {
      "cell_type": "code",
      "source": [
        ""
      ],
      "metadata": {
        "id": "ms1SRP3PVFBb"
      },
      "execution_count": null,
      "outputs": []
    },
    {
      "cell_type": "code",
      "source": [
        "!pip install selenium"
      ],
      "metadata": {
        "colab": {
          "base_uri": "https://localhost:8080/"
        },
        "id": "o9z3J7z5j1OD",
        "outputId": "24bd1699-d681-4612-d859-619a4b7a5323"
      },
      "execution_count": null,
      "outputs": [
        {
          "output_type": "stream",
          "name": "stdout",
          "text": [
            "Requirement already satisfied: selenium in /usr/local/lib/python3.7/dist-packages (4.1.3)\n",
            "Requirement already satisfied: trio~=0.17 in /usr/local/lib/python3.7/dist-packages (from selenium) (0.20.0)\n",
            "Requirement already satisfied: urllib3[secure,socks]~=1.26 in /usr/local/lib/python3.7/dist-packages (from selenium) (1.26.9)\n",
            "Requirement already satisfied: trio-websocket~=0.9 in /usr/local/lib/python3.7/dist-packages (from selenium) (0.9.2)\n",
            "Requirement already satisfied: attrs>=19.2.0 in /usr/local/lib/python3.7/dist-packages (from trio~=0.17->selenium) (21.4.0)\n",
            "Requirement already satisfied: async-generator>=1.9 in /usr/local/lib/python3.7/dist-packages (from trio~=0.17->selenium) (1.10)\n",
            "Requirement already satisfied: outcome in /usr/local/lib/python3.7/dist-packages (from trio~=0.17->selenium) (1.1.0)\n",
            "Requirement already satisfied: sortedcontainers in /usr/local/lib/python3.7/dist-packages (from trio~=0.17->selenium) (2.4.0)\n",
            "Requirement already satisfied: idna in /usr/local/lib/python3.7/dist-packages (from trio~=0.17->selenium) (2.10)\n",
            "Requirement already satisfied: sniffio in /usr/local/lib/python3.7/dist-packages (from trio~=0.17->selenium) (1.2.0)\n",
            "Requirement already satisfied: wsproto>=0.14 in /usr/local/lib/python3.7/dist-packages (from trio-websocket~=0.9->selenium) (1.1.0)\n",
            "Requirement already satisfied: certifi in /usr/local/lib/python3.7/dist-packages (from urllib3[secure,socks]~=1.26->selenium) (2021.10.8)\n",
            "Requirement already satisfied: pyOpenSSL>=0.14 in /usr/local/lib/python3.7/dist-packages (from urllib3[secure,socks]~=1.26->selenium) (22.0.0)\n",
            "Requirement already satisfied: cryptography>=1.3.4 in /usr/local/lib/python3.7/dist-packages (from urllib3[secure,socks]~=1.26->selenium) (36.0.2)\n",
            "Requirement already satisfied: PySocks!=1.5.7,<2.0,>=1.5.6 in /usr/local/lib/python3.7/dist-packages (from urllib3[secure,socks]~=1.26->selenium) (1.7.1)\n",
            "Requirement already satisfied: cffi>=1.12 in /usr/local/lib/python3.7/dist-packages (from cryptography>=1.3.4->urllib3[secure,socks]~=1.26->selenium) (1.15.0)\n",
            "Requirement already satisfied: pycparser in /usr/local/lib/python3.7/dist-packages (from cffi>=1.12->cryptography>=1.3.4->urllib3[secure,socks]~=1.26->selenium) (2.21)\n",
            "Requirement already satisfied: h11<1,>=0.9.0 in /usr/local/lib/python3.7/dist-packages (from wsproto>=0.14->trio-websocket~=0.9->selenium) (0.13.0)\n",
            "Requirement already satisfied: typing-extensions in /usr/local/lib/python3.7/dist-packages (from h11<1,>=0.9.0->wsproto>=0.14->trio-websocket~=0.9->selenium) (3.10.0.2)\n"
          ]
        }
      ]
    },
    {
      "cell_type": "code",
      "source": [
        "from time import sleep\n",
        "from tqdm import tqdm\n",
        "from selenium.webdriver import Chrome\n",
        "from selenium.webdriver.common.keys import Keys\n",
        "from selenium.webdriver.support.ui import WebDriverWait as wait\n",
        "from selenium.webdriver.support import expected_conditions as EC\n",
        "from selenium.common.exceptions import NoSuchElementException"
      ],
      "metadata": {
        "id": "3k8gY42yi2dN"
      },
      "execution_count": null,
      "outputs": []
    },
    {
      "cell_type": "code",
      "source": [
        ""
      ],
      "metadata": {
        "id": "TIeG95o_NzGH"
      },
      "execution_count": null,
      "outputs": []
    },
    {
      "cell_type": "code",
      "source": [
        "browser = Chrome('/content/chromedriver.exe')"
      ],
      "metadata": {
        "colab": {
          "base_uri": "https://localhost:8080/",
          "height": 505
        },
        "id": "_eZlWdZInydT",
        "outputId": "55f6af4a-352d-4f01-faf2-45f7dcaa4b26"
      },
      "execution_count": null,
      "outputs": [
        {
          "output_type": "stream",
          "name": "stderr",
          "text": [
            "/usr/local/lib/python3.7/dist-packages/ipykernel_launcher.py:1: DeprecationWarning: executable_path has been deprecated, please pass in a Service object\n",
            "  \"\"\"Entry point for launching an IPython kernel.\n"
          ]
        },
        {
          "output_type": "error",
          "ename": "WebDriverException",
          "evalue": "ignored",
          "traceback": [
            "\u001b[0;31m---------------------------------------------------------------------------\u001b[0m",
            "\u001b[0;31mPermissionError\u001b[0m                           Traceback (most recent call last)",
            "\u001b[0;32m/usr/local/lib/python3.7/dist-packages/selenium/webdriver/common/service.py\u001b[0m in \u001b[0;36mstart\u001b[0;34m(self)\u001b[0m\n\u001b[1;32m     75\u001b[0m                                             \u001b[0mstdin\u001b[0m\u001b[0;34m=\u001b[0m\u001b[0mPIPE\u001b[0m\u001b[0;34m,\u001b[0m\u001b[0;34m\u001b[0m\u001b[0;34m\u001b[0m\u001b[0m\n\u001b[0;32m---> 76\u001b[0;31m                                             creationflags=self.creationflags)\n\u001b[0m\u001b[1;32m     77\u001b[0m         \u001b[0;32mexcept\u001b[0m \u001b[0mTypeError\u001b[0m\u001b[0;34m:\u001b[0m\u001b[0;34m\u001b[0m\u001b[0;34m\u001b[0m\u001b[0m\n",
            "\u001b[0;32m/usr/lib/python3.7/subprocess.py\u001b[0m in \u001b[0;36m__init__\u001b[0;34m(self, args, bufsize, executable, stdin, stdout, stderr, preexec_fn, close_fds, shell, cwd, env, universal_newlines, startupinfo, creationflags, restore_signals, start_new_session, pass_fds, encoding, errors, text)\u001b[0m\n\u001b[1;32m    799\u001b[0m                                 \u001b[0merrread\u001b[0m\u001b[0;34m,\u001b[0m \u001b[0merrwrite\u001b[0m\u001b[0;34m,\u001b[0m\u001b[0;34m\u001b[0m\u001b[0;34m\u001b[0m\u001b[0m\n\u001b[0;32m--> 800\u001b[0;31m                                 restore_signals, start_new_session)\n\u001b[0m\u001b[1;32m    801\u001b[0m         \u001b[0;32mexcept\u001b[0m\u001b[0;34m:\u001b[0m\u001b[0;34m\u001b[0m\u001b[0;34m\u001b[0m\u001b[0m\n",
            "\u001b[0;32m/usr/lib/python3.7/subprocess.py\u001b[0m in \u001b[0;36m_execute_child\u001b[0;34m(self, args, executable, preexec_fn, close_fds, pass_fds, cwd, env, startupinfo, creationflags, shell, p2cread, p2cwrite, c2pread, c2pwrite, errread, errwrite, restore_signals, start_new_session)\u001b[0m\n\u001b[1;32m   1550\u001b[0m                             \u001b[0merr_msg\u001b[0m \u001b[0;34m+=\u001b[0m \u001b[0;34m': '\u001b[0m \u001b[0;34m+\u001b[0m \u001b[0mrepr\u001b[0m\u001b[0;34m(\u001b[0m\u001b[0merr_filename\u001b[0m\u001b[0;34m)\u001b[0m\u001b[0;34m\u001b[0m\u001b[0;34m\u001b[0m\u001b[0m\n\u001b[0;32m-> 1551\u001b[0;31m                     \u001b[0;32mraise\u001b[0m \u001b[0mchild_exception_type\u001b[0m\u001b[0;34m(\u001b[0m\u001b[0merrno_num\u001b[0m\u001b[0;34m,\u001b[0m \u001b[0merr_msg\u001b[0m\u001b[0;34m,\u001b[0m \u001b[0merr_filename\u001b[0m\u001b[0;34m)\u001b[0m\u001b[0;34m\u001b[0m\u001b[0;34m\u001b[0m\u001b[0m\n\u001b[0m\u001b[1;32m   1552\u001b[0m                 \u001b[0;32mraise\u001b[0m \u001b[0mchild_exception_type\u001b[0m\u001b[0;34m(\u001b[0m\u001b[0merr_msg\u001b[0m\u001b[0;34m)\u001b[0m\u001b[0;34m\u001b[0m\u001b[0;34m\u001b[0m\u001b[0m\n",
            "\u001b[0;31mPermissionError\u001b[0m: [Errno 13] Permission denied: '/content/chromedriver.exe'",
            "\nDuring handling of the above exception, another exception occurred:\n",
            "\u001b[0;31mWebDriverException\u001b[0m                        Traceback (most recent call last)",
            "\u001b[0;32m<ipython-input-9-f90f8731c350>\u001b[0m in \u001b[0;36m<module>\u001b[0;34m()\u001b[0m\n\u001b[0;32m----> 1\u001b[0;31m \u001b[0mbrowser\u001b[0m \u001b[0;34m=\u001b[0m \u001b[0mChrome\u001b[0m\u001b[0;34m(\u001b[0m\u001b[0;34m'/content/chromedriver.exe'\u001b[0m\u001b[0;34m)\u001b[0m\u001b[0;34m\u001b[0m\u001b[0;34m\u001b[0m\u001b[0m\n\u001b[0m",
            "\u001b[0;32m/usr/local/lib/python3.7/dist-packages/selenium/webdriver/chrome/webdriver.py\u001b[0m in \u001b[0;36m__init__\u001b[0;34m(self, executable_path, port, options, service_args, desired_capabilities, service_log_path, chrome_options, service, keep_alive)\u001b[0m\n\u001b[1;32m     71\u001b[0m                                         \u001b[0mport\u001b[0m\u001b[0;34m,\u001b[0m \u001b[0moptions\u001b[0m\u001b[0;34m,\u001b[0m\u001b[0;34m\u001b[0m\u001b[0;34m\u001b[0m\u001b[0m\n\u001b[1;32m     72\u001b[0m                                         \u001b[0mservice_args\u001b[0m\u001b[0;34m,\u001b[0m \u001b[0mdesired_capabilities\u001b[0m\u001b[0;34m,\u001b[0m\u001b[0;34m\u001b[0m\u001b[0;34m\u001b[0m\u001b[0m\n\u001b[0;32m---> 73\u001b[0;31m                                         service_log_path, service, keep_alive)\n\u001b[0m",
            "\u001b[0;32m/usr/local/lib/python3.7/dist-packages/selenium/webdriver/chromium/webdriver.py\u001b[0m in \u001b[0;36m__init__\u001b[0;34m(self, browser_name, vendor_prefix, port, options, service_args, desired_capabilities, service_log_path, service, keep_alive)\u001b[0m\n\u001b[1;32m     88\u001b[0m \u001b[0;34m\u001b[0m\u001b[0m\n\u001b[1;32m     89\u001b[0m         \u001b[0mself\u001b[0m\u001b[0;34m.\u001b[0m\u001b[0mservice\u001b[0m \u001b[0;34m=\u001b[0m \u001b[0mservice\u001b[0m\u001b[0;34m\u001b[0m\u001b[0;34m\u001b[0m\u001b[0m\n\u001b[0;32m---> 90\u001b[0;31m         \u001b[0mself\u001b[0m\u001b[0;34m.\u001b[0m\u001b[0mservice\u001b[0m\u001b[0;34m.\u001b[0m\u001b[0mstart\u001b[0m\u001b[0;34m(\u001b[0m\u001b[0;34m)\u001b[0m\u001b[0;34m\u001b[0m\u001b[0;34m\u001b[0m\u001b[0m\n\u001b[0m\u001b[1;32m     91\u001b[0m \u001b[0;34m\u001b[0m\u001b[0m\n\u001b[1;32m     92\u001b[0m         \u001b[0;32mtry\u001b[0m\u001b[0;34m:\u001b[0m\u001b[0;34m\u001b[0m\u001b[0;34m\u001b[0m\u001b[0m\n",
            "\u001b[0;32m/usr/local/lib/python3.7/dist-packages/selenium/webdriver/common/service.py\u001b[0m in \u001b[0;36mstart\u001b[0;34m(self)\u001b[0m\n\u001b[1;32m     86\u001b[0m                 raise WebDriverException(\n\u001b[1;32m     87\u001b[0m                     \"'%s' executable may have wrong permissions. %s\" % (\n\u001b[0;32m---> 88\u001b[0;31m                         os.path.basename(self.path), self.start_error_message)\n\u001b[0m\u001b[1;32m     89\u001b[0m                 )\n\u001b[1;32m     90\u001b[0m             \u001b[0;32melse\u001b[0m\u001b[0;34m:\u001b[0m\u001b[0;34m\u001b[0m\u001b[0;34m\u001b[0m\u001b[0m\n",
            "\u001b[0;31mWebDriverException\u001b[0m: Message: 'chromedriver.exe' executable may have wrong permissions. Please see https://chromedriver.chromium.org/home\n"
          ]
        }
      ]
    },
    {
      "cell_type": "code",
      "metadata": {
        "id": "LJ5AguAEY_qs"
      },
      "source": [
        "def get_html(url):\n",
        "    r = requests.get(url)\n",
        "    return r.text\n",
        "\n",
        "\n",
        "def get_status(url):\n",
        "    page = requests.get(url)\n",
        "    return page.status_code\n",
        "\n",
        "\n",
        "def get_urls(html):\n",
        "    soup = BeautifulSoup(html, \"lxml\")\n",
        "    urls = []\n",
        "    for url in soup.find_all('div', class_='card-title'):\n",
        "        urls.append(url.find_all('a')[-1].get('href'))\n",
        "    return urls\n",
        "\n",
        "\n",
        "def get_article_content(url):\n",
        "    page = requests.get(url)\n",
        "\n",
        "    if page.status_code == 200:\n",
        "        soup = BeautifulSoup(page.text, \"lxml\")\n",
        "        try:\n",
        "            content = soup.find('h1').text.replace('\\t', '') + soup.find('div', class_=\"entry-content\").text\n",
        "            return content\n",
        "        except Exception as exc:\n",
        "            print(exc)\n",
        "    else:\n",
        "        return None\n",
        "\n",
        "\n",
        "def parser(output='ysia_data.txt', print_each=2):\n",
        "    urls = get_urls(get_html(BASE_URL))\n",
        "    for url in urls:\n",
        "      i = 1\n",
        "      count = 1\n",
        "      while get_status(url+'page/'+str(i)) != 404:\n",
        "        GEN_URL = url+'page/'+str(i)\n",
        "        html = get_html(GEN_URL)\n",
        "        ssylki = get_page_data(html)\n",
        "        for ss in ssylki:\n",
        "            text_file = open(output,'a')\n",
        "            content = get_article_content(ss)\n",
        "            if content is not None:\n",
        "                text_file.write('сонун №'+str(count)+'\\n')\n",
        "                text_file.write(content+'\\n')\n",
        "            count = count+1\n",
        "            text_file.close()\n",
        "        i = i+1\n",
        "      print(i,count)\n",
        "    return count"
      ],
      "execution_count": null,
      "outputs": []
    },
    {
      "cell_type": "code",
      "metadata": {
        "id": "GFTkL1gJZM1K"
      },
      "source": [
        "parser()"
      ],
      "execution_count": null,
      "outputs": []
    },
    {
      "cell_type": "code",
      "source": [
        ""
      ],
      "metadata": {
        "id": "z_P1b0204Dhs"
      },
      "execution_count": null,
      "outputs": []
    },
    {
      "cell_type": "code",
      "source": [
        ""
      ],
      "metadata": {
        "id": "5X4yCRwt4Dn7"
      },
      "execution_count": null,
      "outputs": []
    },
    {
      "cell_type": "markdown",
      "source": [
        "**Аартык**"
      ],
      "metadata": {
        "id": "4DREVf4W_m_7"
      }
    },
    {
      "cell_type": "code",
      "source": [
        "BASE_URL='https://aartyk.ru/category/sakha/'"
      ],
      "metadata": {
        "id": "1uVoHCiY_pYg"
      },
      "execution_count": null,
      "outputs": []
    },
    {
      "cell_type": "code",
      "source": [
        "def get_html(url):\n",
        "    r = requests.get(url)\n",
        "    return r.text\n",
        "\n",
        "\n",
        "def get_last_page(html):\n",
        "    soup = BeautifulSoup(html, \"lxml\")\n",
        "    the_last_page = soup.find('div', class_='nav-links').find_all('a', class_='page-numbers')[-2].get('href')\n",
        "    last_page = int(the_last_page.split('/')[-2])\n",
        "    return last_page\n",
        "\n",
        "\n",
        "def get_page_data(html):\n",
        "    soup = BeautifulSoup(html, \"lxml\")\n",
        "    news_url = soup.find_all('h5', class_='title')\n",
        "    url = []\n",
        "    for add in news_url:\n",
        "        try:\n",
        "            url.append(add.find('a').get('href'))\n",
        "        except:\n",
        "            url.append('')\n",
        "    return url\n",
        "\n",
        "\n",
        "def get_article_content(url):\n",
        "    page = requests.get(url)\n",
        "\n",
        "    if page.status_code == 200:\n",
        "        text=''\n",
        "        soup = BeautifulSoup(page.text, \"lxml\")\n",
        "        try: \n",
        "            for el in soup.find_all('div', attrs={'class':\"single-wrapper\"}):\n",
        "              text = text + el.get_text()\n",
        "            #content = soup.find('div', class_ ='post-content-inner').text\n",
        "            return text\n",
        "        except Exception as exc:\n",
        "            print(exc)\n",
        "    else:\n",
        "        return None\n",
        "\n",
        "\n",
        "def parser(output='data/aartyk_data.txt', print_each=2):\n",
        "    last_page = get_last_page(get_html(BASE_URL))\n",
        "    count = 0\n",
        "    for i in range(1, last_page + 1):\n",
        "        GEN_URL = BASE_URL+'page/'+str(i)\n",
        "        html = get_html(GEN_URL)\n",
        "        urls = get_page_data(html)\n",
        "        #print(urls)\n",
        "\n",
        "        for url in urls:\n",
        "            text_file = open(output,'a')\n",
        "            content = get_article_content(url)\n",
        "            if content is not None:\n",
        "                text_file.write('сонун №'+str(count)+'\\n')\n",
        "                text_file.write(content+'\\n')\n",
        "            text_file.close()\n",
        "            count += 1\n",
        "        print(count)\n",
        "    return count"
      ],
      "metadata": {
        "id": "UgH_JPVl_pfY"
      },
      "execution_count": null,
      "outputs": []
    },
    {
      "cell_type": "code",
      "source": [
        "parser()"
      ],
      "metadata": {
        "id": "SYcuN-PS_pi7"
      },
      "execution_count": null,
      "outputs": []
    },
    {
      "cell_type": "code",
      "source": [
        ""
      ],
      "metadata": {
        "id": "Deyrtl-S_poJ"
      },
      "execution_count": null,
      "outputs": []
    }
  ]
}